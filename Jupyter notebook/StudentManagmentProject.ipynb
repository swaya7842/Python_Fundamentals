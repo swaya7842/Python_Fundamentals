{
 "cells": [
  {
   "cell_type": "code",
   "execution_count": 1,
   "metadata": {},
   "outputs": [
    {
     "name": "stdout",
     "output_type": "stream",
     "text": [
      "Collecting mysql-connectorNote: you may need to restart the kernel to use updated packages.\n",
      "  Using cached mysql-connector-2.2.9.tar.gz (11.9 MB)\n",
      "Building wheels for collected packages: mysql-connector\n",
      "  Building wheel for mysql-connector (setup.py): started\n",
      "  Building wheel for mysql-connector (setup.py): finished with status 'done'\n",
      "  Created wheel for mysql-connector: filename=mysql_connector-2.2.9-cp38-cp38-win_amd64.whl size=247946 sha256=71a7c4c7520fd134b1643c42e6c63a5f6c2e70e6e5f6b3b317675139f0339984\n",
      "  Stored in directory: c:\\users\\swayamprabha\\appdata\\local\\pip\\cache\\wheels\\57\\e4\\98\\5feafb5c393dd2540e44b064a6f95832990d543e5b4f53ea8f\n",
      "Successfully built mysql-connector\n",
      "Installing collected packages: mysql-connector\n",
      "Successfully installed mysql-connector-2.2.9\n",
      "\n"
     ]
    }
   ],
   "source": [
    "pip install mysql-connector"
   ]
  },
  {
   "cell_type": "code",
   "execution_count": 1,
   "metadata": {},
   "outputs": [],
   "source": [
    "import tkinter as tk\n",
    "import mysql.connector\n",
    "from tkinter import messagebox\n",
    "myflag = True\n",
    "mydb=mysql.connector.connect(\n",
    "    host=\"localhost\",\n",
    "    user=\"root\",\n",
    "    password=\"\",\n",
    "    database=\"python_data_science\")\n",
    "\n",
    "mycursor=mydb.cursor()\n",
    "\n",
    "def Create():\n",
    "\n",
    "    tablename = input(\"enter table name=> \")\n",
    "    mycursor.execute(\n",
    "        \"CREATE TABLE {}(`RollNo` INT ,`First_Name` VARCHAR(150) NOT NULL,`Last_Name` VARCHAR(150) NOT NULL ,`Phone_Number` VARCHAR(6),`City` VARCHAR(6),`State` VARCHAR(6),`Age` VARCHAR(6))\".format(\n",
    "            tablename))\n",
    "# ----------------------------------------CREATE-----------------------------------\n",
    "def Insert():\n",
    "\n",
    "    x=\"Insert into student(RollNo,First_Name,Last_Name,Phone_Number,City,State,Age) values('\"'{}'\"','\"'{}'\"','\"'{}'\"','\"'{}'\"','\"'{}'\"','\"'{}'\"','\"'{}'\"')\".format(RollNo.get(),First_Name.get(),Last_Name.get(),Phone_Number.get(),City.get(),State.get(),Age.get())\n",
    "    print(x)\n",
    "    mycursor.execute(x)\n",
    "    mydb.commit()\n",
    "    Clear()\n",
    "    print(mycursor.rowcount, \"record inserted.\")\n",
    "# -----------------------------------------------------------------------------------\n",
    "# ----------------------------------------RETRIVE------------------------------------\n",
    "def Retrive():\n",
    "    x = \"SELECT * FROM `student` WHERE Rollno = {}\".format(RollNo.get())\n",
    "    mycursor.execute(x)\n",
    "    records = mycursor.fetchall()\n",
    "    print(records)\n",
    "    for i in records:\n",
    "        RollNo.set(i[0])\n",
    "        First_Name.set(i[1])\n",
    "        Last_Name.set(i[2])\n",
    "        Phone_Number.set(i[3])\n",
    "        City.set(i[4])\n",
    "        State.set(i[5])\n",
    "        Age.set(i[6])\n",
    "# -----------------------------------------------------------------------------------\n",
    "# ----------------------------------------UPDATE-------------------------------------\n",
    "def Update():\n",
    "    # fullname = input(\"enter full name\")\n",
    "    # membership_number = input(\"enter membership number\")\n",
    "    global myflag\n",
    "    if myflag == True:\n",
    "        button4 = tk.Button(root, text=\"Update\", width=10, height=2, command=Update).grid(row=3, column=3)\n",
    "        Retrive()\n",
    "        myflag = False\n",
    "    elif myflag == False:\n",
    "        button4 = tk.Button(root, text=\"Retrive\", width=10, height=2, command=Update).grid(row=3, column=3)\n",
    "        x = \"UPDATE student SET RollNo = \"'\"{}\"'\",First_Name = \"'\"{}\"'\",Last_Name = \"'\"{}\"'\",Phone_Number = \"'\"{}\"'\",City = \"'\"{}\"'\",State = \"'\"{}\"'\",Age = \"'\"{}\"'\" WHERE RollNo = \"'\"{}\"'\"\".format(RollNo.get(),First_Name.get(),Last_Name.get(),Phone_Number.get(),City.get(),State.get(),Age.get(),RollNo.get())\n",
    "        print(x)\n",
    "        mycursor.execute(x)\n",
    "        Decision = tk.messagebox.askquestion(\"Do you really want to Update\")\n",
    "        print(Decision)\n",
    "        if Decision == 'yes':\n",
    "            mydb.commit()\n",
    "            myflag = True\n",
    "            tk.messagebox.showinfo(\"1 Record has been Updated!!!\")\n",
    "        elif Decision == 'no':\n",
    "            Clear()\n",
    "#-----------------------------------------------------------------------------------\n",
    "# ----------------------------------------DELETE------------------------------------\n",
    "def Delete():\n",
    "    x = \"DELETE FROM `student` WHERE WHERE RollNo = \"'\"{}\"'\"\".format(RollNo.get())\n",
    "    Decision = tk.messagebox.askquestion(\"Do you really want to Delete\")\n",
    "    print(Decision)\n",
    "    if Decision == 'yes':\n",
    "        mydb.commit()\n",
    "        tk.messagebox.showinfo(\"1 Record has been Deleted!!!\")\n",
    "    elif Decision == 'no':\n",
    "        Clear()\n",
    "def Clear():\n",
    "    RollNo.set(\"\")\n",
    "    First_Name.set(\"\")\n",
    "    Last_Name.set(\"\")\n",
    "    Phone_Number.set(\"\")\n",
    "    City.set(\"\")\n",
    "    State.set(\"\")\n",
    "    Age.set(\"\")"
   ]
  },
  {
   "cell_type": "code",
   "execution_count": 2,
   "metadata": {},
   "outputs": [
    {
     "data": {
      "text/plain": [
       "''"
      ]
     },
     "execution_count": 2,
     "metadata": {},
     "output_type": "execute_result"
    }
   ],
   "source": [
    "root = tk.Tk()\n",
    "root.title(\"Student database Project\")\n",
    "root.geometry(\"500x400\")"
   ]
  },
  {
   "cell_type": "code",
   "execution_count": 3,
   "metadata": {},
   "outputs": [],
   "source": [
    "label1 = tk.Label(root,text=\"RollNo\",width=20,height=2).grid(row=0,column=0)\n",
    "label2 = tk.Label(root,text=\"First_Name\",width=20,height=2).grid(row=1,column=0)\n",
    "label3 = tk.Label(root,text=\"Last_Name\",width=20,height=2).grid(row=2,column=0)\n",
    "label4 = tk.Label(root,text=\"Phone_Number\",width=20,height=2).grid(row=3,column=0)\n",
    "label5 = tk.Label(root,text=\"City\",width=20,height=2).grid(row=4,column=0)\n",
    "label6 = tk.Label(root,text=\"State\",width=20,height=2).grid(row=5,column=0)\n",
    "label7 = tk.Label(root,text=\"Age\",width=20,height=2).grid(row=6,column=0)"
   ]
  },
  {
   "cell_type": "code",
   "execution_count": 4,
   "metadata": {},
   "outputs": [],
   "source": [
    "RollNo = tk.StringVar()\n",
    "First_Name = tk.StringVar()\n",
    "Last_Name = tk.StringVar()\n",
    "Phone_Number = tk.StringVar()\n",
    "City = tk.StringVar()\n",
    "State = tk.StringVar()\n",
    "Age = tk.StringVar()"
   ]
  },
  {
   "cell_type": "code",
   "execution_count": 5,
   "metadata": {},
   "outputs": [],
   "source": [
    "e1 = tk.Entry(root,textvariable=RollNo).grid(row=0,column=1)\n",
    "e2 = tk.Entry(root,textvariable=First_Name).grid(row=1,column=1)\n",
    "e3 = tk.Entry(root,textvariable=Last_Name).grid(row=2,column=1)\n",
    "e4 = tk.Entry(root,textvariable=Phone_Number).grid(row=3,column=1)\n",
    "e5 = tk.Entry(root,textvariable=City).grid(row=4,column=1)\n",
    "e6 = tk.Entry(root,textvariable=State).grid(row=5,column=1)\n",
    "e7 = tk.Entry(root,textvariable=Age).grid(row=6,column=1)"
   ]
  },
  {
   "cell_type": "code",
   "execution_count": 6,
   "metadata": {},
   "outputs": [],
   "source": [
    "button1 = tk.Button(root,text=\"Create\",command=Create).grid(row=0,column=3)\n",
    "button2 = tk.Button(root,text=\"Insert\",command=Insert).grid(row=1,column=3)\n",
    "button3 = tk.Button(root,text=\"Retrive\",command=Retrive).grid(row=2,column=3)\n",
    "button4 = tk.Button(root,text=\"Update\",command=Update).grid(row=3,column=3)\n",
    "button5 = tk.Button(root,text=\"Delete\",command=Delete).grid(row=4,column=3)\n",
    "button6 = tk.Button(root,text=\"Clear\",command=Clear).grid(row=5,column=3)"
   ]
  },
  {
   "cell_type": "code",
   "execution_count": 7,
   "metadata": {},
   "outputs": [
    {
     "name": "stdout",
     "output_type": "stream",
     "text": [
      "enter table name=> student\n",
      "Insert into student(RollNo,First_Name,Last_Name,Phone_Number,City,State,Age) values('1','swaya','shirsath','9552690259','nagar','mh','23')\n",
      "1 record inserted.\n",
      "Insert into student(RollNo,First_Name,Last_Name,Phone_Number,City,State,Age) values('2','swayamprabha','shirsath','9595151947','nagar','mh','23')\n",
      "1 record inserted.\n"
     ]
    }
   ],
   "source": [
    "root.mainloop()"
   ]
  },
  {
   "cell_type": "code",
   "execution_count": null,
   "metadata": {},
   "outputs": [],
   "source": []
  }
 ],
 "metadata": {
  "kernelspec": {
   "display_name": "Python 3",
   "language": "python",
   "name": "python3"
  },
  "language_info": {
   "codemirror_mode": {
    "name": "ipython",
    "version": 3
   },
   "file_extension": ".py",
   "mimetype": "text/x-python",
   "name": "python",
   "nbconvert_exporter": "python",
   "pygments_lexer": "ipython3",
   "version": "3.8.3"
  }
 },
 "nbformat": 4,
 "nbformat_minor": 4
}
