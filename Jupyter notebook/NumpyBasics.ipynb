{
 "cells": [
  {
   "cell_type": "code",
   "execution_count": 14,
   "metadata": {},
   "outputs": [],
   "source": [
    "import numpy as np\n",
    "import sys\n",
    "import time"
   ]
  },
  {
   "cell_type": "code",
   "execution_count": 18,
   "metadata": {},
   "outputs": [
    {
     "name": "stdout",
     "output_type": "stream",
     "text": [
      "Element in list : range(0, 100000)\n",
      "Size of 1 int 28\n",
      "Toal no of items : 100000\n",
      "Size of List: 2800000\n"
     ]
    }
   ],
   "source": [
    "size = 100000\n",
    "List_1 = range(size)\n",
    "List_2 = range(size)\n",
    "print(\"Element in list :\",List_1)\n",
    "print(\"Size of 1 int\",sys.getsizeof(1))\n",
    "print(\"Toal no of items :\",len(List_1))\n",
    "print(\"Size of List:\",sys.getsizeof(1)*len(List_1))"
   ]
  },
  {
   "cell_type": "code",
   "execution_count": 19,
   "metadata": {},
   "outputs": [
    {
     "name": "stdout",
     "output_type": "stream",
     "text": [
      "Array_1.size: int32\n",
      "Array_1.itemsize: 4\n",
      "Size of array: 400000\n"
     ]
    }
   ],
   "source": [
    "Array_1 = np.arange(size)\n",
    "Array_2 = np.arange(size)\n",
    "print(\"Array_1.size:\",Array_1.dtype)\n",
    "print(\"Array_1.itemsize:\",Array_1.itemsize)\n",
    "print(\"Size of array:\",Array_1.size * Array_1.itemsize)"
   ]
  },
  {
   "cell_type": "code",
   "execution_count": 20,
   "metadata": {},
   "outputs": [
    {
     "name": "stdout",
     "output_type": "stream",
     "text": [
      "Time consume 114.9284839630127\n"
     ]
    }
   ],
   "source": [
    "List_3 = []\n",
    "start_time = time.time()\n",
    "for x in range(0,len(List_1)):\n",
    "    List_3.append(List_1[x]+List_2[x])\n",
    "end_time = time.time()\n",
    "time_of_list = ((end_time - start_time)*1000)\n",
    "print(\"Time consume\",time_of_list)"
   ]
  },
  {
   "cell_type": "code",
   "execution_count": 13,
   "metadata": {},
   "outputs": [
    {
     "name": "stdout",
     "output_type": "stream",
     "text": [
      "Time taken 0.0\n",
      "[0, 2, 4, 6, 8, 10, 12, 14, 16, 18, 20, 22, 24, 26, 28, 30, 32, 34, 36, 38, 40, 42, 44, 46, 48, 50, 52, 54, 56, 58, 60, 62, 64, 66, 68, 70, 72, 74, 76, 78, 80, 82, 84, 86, 88, 90, 92, 94, 96, 98, 100, 102, 104, 106, 108, 110, 112, 114, 116, 118, 120, 122, 124, 126, 128, 130, 132, 134, 136, 138, 140, 142, 144, 146, 148, 150, 152, 154, 156, 158, 160, 162, 164, 166, 168, 170, 172, 174, 176, 178, 180, 182, 184, 186, 188, 190, 192, 194, 196, 198]\n",
      "[  0   2   4   6   8  10  12  14  16  18  20  22  24  26  28  30  32  34\n",
      "  36  38  40  42  44  46  48  50  52  54  56  58  60  62  64  66  68  70\n",
      "  72  74  76  78  80  82  84  86  88  90  92  94  96  98 100 102 104 106\n",
      " 108 110 112 114 116 118 120 122 124 126 128 130 132 134 136 138 140 142\n",
      " 144 146 148 150 152 154 156 158 160 162 164 166 168 170 172 174 176 178\n",
      " 180 182 184 186 188 190 192 194 196 198]\n"
     ]
    }
   ],
   "source": [
    "start_time = time.time()\n",
    "Array_3 = Array_1 + Array_2\n",
    "end_time = time.time()\n",
    "print(\"Time taken\",((end_time - start_time)*1000))\n",
    "print(List_3)\n",
    "print(Array_3)"
   ]
  },
  {
   "cell_type": "code",
   "execution_count": 21,
   "metadata": {},
   "outputs": [
    {
     "name": "stdout",
     "output_type": "stream",
     "text": [
      "<class 'list'>\n",
      "[1, 2, 3, 4, 5, 6, 7, 8, 9, 10, 11, 12, 13, 14, 15]\n"
     ]
    }
   ],
   "source": [
    "mylist = [1,2,3,4,5,6,7,8,9,10,11,12,13,14,15]\n",
    "print(type(mylist))\n",
    "print(mylist)"
   ]
  },
  {
   "cell_type": "code",
   "execution_count": 22,
   "metadata": {},
   "outputs": [
    {
     "name": "stdout",
     "output_type": "stream",
     "text": [
      "<class 'numpy.ndarray'>\n",
      "[ 1  2  3  4  5  6  7  8  9 10 11 12 13 14 15]\n"
     ]
    }
   ],
   "source": [
    "mynparray = np.array(mylist)\n",
    "print(type(mynparray))\n",
    "print(mynparray)"
   ]
  },
  {
   "cell_type": "code",
   "execution_count": 23,
   "metadata": {},
   "outputs": [
    {
     "name": "stdout",
     "output_type": "stream",
     "text": [
      "1\n"
     ]
    }
   ],
   "source": [
    "print(mynparray.ndim)"
   ]
  },
  {
   "cell_type": "code",
   "execution_count": 24,
   "metadata": {},
   "outputs": [
    {
     "name": "stdout",
     "output_type": "stream",
     "text": [
      "4\n"
     ]
    }
   ],
   "source": [
    "print(mynparray.itemsize)"
   ]
  },
  {
   "cell_type": "code",
   "execution_count": 26,
   "metadata": {},
   "outputs": [
    {
     "name": "stdout",
     "output_type": "stream",
     "text": [
      "[[1 2 3]\n",
      " [2 3 4]]\n"
     ]
    }
   ],
   "source": [
    "tdarray = np.array([[1,2,3],[2,3,4]])\n",
    "print(tdarray)"
   ]
  },
  {
   "cell_type": "code",
   "execution_count": 27,
   "metadata": {},
   "outputs": [
    {
     "name": "stdout",
     "output_type": "stream",
     "text": [
      "(2, 3)\n"
     ]
    }
   ],
   "source": [
    "print(tdarray.shape)"
   ]
  },
  {
   "cell_type": "code",
   "execution_count": 28,
   "metadata": {},
   "outputs": [
    {
     "name": "stdout",
     "output_type": "stream",
     "text": [
      "[[1 2]\n",
      " [3 2]\n",
      " [3 4]]\n"
     ]
    }
   ],
   "source": [
    "reshaped = tdarray.reshape(3,2)\n",
    "print(reshaped)"
   ]
  },
  {
   "cell_type": "code",
   "execution_count": 30,
   "metadata": {},
   "outputs": [
    {
     "name": "stdout",
     "output_type": "stream",
     "text": [
      "float64\n",
      "[[0. 0.]\n",
      " [0. 0.]\n",
      " [0. 0.]]\n"
     ]
    }
   ],
   "source": [
    "mz_array = np.zeros((3,2))\n",
    "print(mz_array.dtype)\n",
    "print(mz_array)"
   ]
  },
  {
   "cell_type": "code",
   "execution_count": 34,
   "metadata": {},
   "outputs": [
    {
     "name": "stdout",
     "output_type": "stream",
     "text": [
      "int64\n",
      "[[1 1]\n",
      " [1 1]\n",
      " [1 1]]\n"
     ]
    }
   ],
   "source": [
    "mz_array = np.ones((3,2),dtype=np.int64)\n",
    "print(mz_array.dtype)\n",
    "print(mz_array)"
   ]
  },
  {
   "cell_type": "code",
   "execution_count": 35,
   "metadata": {},
   "outputs": [
    {
     "name": "stdout",
     "output_type": "stream",
     "text": [
      "[ 1  3  5  7  9 11 13 15 17 19 21 23]\n"
     ]
    }
   ],
   "source": [
    "my_range_array = np.arange(1,24,2)\n",
    "print(my_range_array)"
   ]
  },
  {
   "cell_type": "code",
   "execution_count": 36,
   "metadata": {},
   "outputs": [
    {
     "name": "stdout",
     "output_type": "stream",
     "text": [
      "[[ 1  3  5]\n",
      " [ 7  9 11]\n",
      " [13 15 17]\n",
      " [19 21 23]]\n"
     ]
    }
   ],
   "source": [
    "my_reshaped_array = my_range_array.reshape(4,3)\n",
    "print(my_reshaped_array)"
   ]
  },
  {
   "cell_type": "code",
   "execution_count": 39,
   "metadata": {},
   "outputs": [
    {
     "name": "stdout",
     "output_type": "stream",
     "text": [
      "[         0          1          4 ... 1409465417 1409665412 1409865409]\n"
     ]
    }
   ],
   "source": [
    "Array_mult = []\n",
    "Array_mult = Array_1 * Array_2\n",
    "print(Array_mult)"
   ]
  },
  {
   "cell_type": "code",
   "execution_count": 40,
   "metadata": {},
   "outputs": [
    {
     "name": "stdout",
     "output_type": "stream",
     "text": [
      "70\n"
     ]
    }
   ],
   "source": [
    "Array_1 = np.array([1,2,3,4])\n",
    "Array_2 = np.array([5,6,7,8])\n",
    "\n",
    "Array_mult = Array_1 @ Array_2\n",
    "print(Array_mult)"
   ]
  },
  {
   "cell_type": "code",
   "execution_count": 41,
   "metadata": {},
   "outputs": [
    {
     "name": "stdout",
     "output_type": "stream",
     "text": [
      "70\n"
     ]
    }
   ],
   "source": [
    "Array_mult = Array_1.dot(Array_2)\n",
    "print(Array_mult)"
   ]
  },
  {
   "cell_type": "code",
   "execution_count": 44,
   "metadata": {},
   "outputs": [
    {
     "name": "stdout",
     "output_type": "stream",
     "text": [
      "5\n",
      "17\n",
      "38\n",
      "70\n"
     ]
    }
   ],
   "source": [
    "z=0\n",
    "for i,j in zip(Array_1,Array_2):\n",
    "    z = z + i*j\n",
    "    print(z)"
   ]
  },
  {
   "cell_type": "code",
   "execution_count": 46,
   "metadata": {},
   "outputs": [
    {
     "name": "stdout",
     "output_type": "stream",
     "text": [
      "[7.91243927 1.94950929 3.69787458 5.95109116 6.75177041]\n"
     ]
    }
   ],
   "source": [
    "Array_7 = np.random.random((5))\n",
    "print(Array_7 *10)"
   ]
  },
  {
   "cell_type": "code",
   "execution_count": 51,
   "metadata": {},
   "outputs": [
    {
     "name": "stdout",
     "output_type": "stream",
     "text": [
      "[[0. 1. 2.]\n",
      " [1. 2. 3.]]\n"
     ]
    }
   ],
   "source": [
    "def myfunc(x,y):\n",
    "    z = x+y\n",
    "    return z\n",
    "Array_8 = np.fromfunction(myfunc,(2,3))\n",
    "print(Array_8)\n"
   ]
  },
  {
   "cell_type": "code",
   "execution_count": null,
   "metadata": {},
   "outputs": [],
   "source": []
  }
 ],
 "metadata": {
  "kernelspec": {
   "display_name": "Python 3",
   "language": "python",
   "name": "python3"
  },
  "language_info": {
   "codemirror_mode": {
    "name": "ipython",
    "version": 3
   },
   "file_extension": ".py",
   "mimetype": "text/x-python",
   "name": "python",
   "nbconvert_exporter": "python",
   "pygments_lexer": "ipython3",
   "version": "3.8.3"
  }
 },
 "nbformat": 4,
 "nbformat_minor": 4
}
