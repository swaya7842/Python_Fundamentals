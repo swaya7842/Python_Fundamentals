{
 "cells": [
  {
   "cell_type": "code",
   "execution_count": 2,
   "metadata": {},
   "outputs": [],
   "source": [
    "import pandas as pd"
   ]
  },
  {
   "cell_type": "code",
   "execution_count": 11,
   "metadata": {},
   "outputs": [
    {
     "name": "stdout",
     "output_type": "stream",
     "text": [
      "0    1\n",
      "1    2\n",
      "2    3\n",
      "3    4\n",
      "4    5\n",
      "dtype: int64\n",
      "A    1\n",
      "B    2\n",
      "C    3\n",
      "D    4\n",
      "E    5\n",
      "dtype: int64\n"
     ]
    }
   ],
   "source": [
    "x = [1,2,3,4,5]\n",
    "myseries_1 = pd.Series(x)\n",
    "print(myseries_1)\n",
    "Index = ['A','B','C','D','E']\n",
    "myseries_2 = pd.Series(x,Index)\n",
    "print(myseries_2)"
   ]
  },
  {
   "cell_type": "code",
   "execution_count": 12,
   "metadata": {},
   "outputs": [
    {
     "name": "stdout",
     "output_type": "stream",
     "text": [
      "1     Karan\n",
      "2     Arjun\n",
      "3    Suresh\n",
      "4    Ramesh\n",
      "5       Tom\n",
      "dtype: object\n"
     ]
    }
   ],
   "source": [
    "mydict = {1 : \"Karan\",\n",
    "         2 : \"Arjun\",\n",
    "         3 : \"Suresh\",\n",
    "         4 : \"Ramesh\",\n",
    "         5 : \"Tom\"}\n",
    "myseries_3 = pd.Series(mydict)\n",
    "print(myseries_3)"
   ]
  },
  {
   "cell_type": "code",
   "execution_count": 13,
   "metadata": {},
   "outputs": [
    {
     "name": "stdout",
     "output_type": "stream",
     "text": [
      "A    [1, 2, 3]\n",
      "B    [4, 5, 6]\n",
      "dtype: object\n"
     ]
    }
   ],
   "source": [
    "mydata = [[1,2,3],[4,5,6]]\n",
    "Index = ['A','B']\n",
    "myseries_4 = pd.Series(mydata,Index)\n",
    "print(myseries_4)"
   ]
  },
  {
   "cell_type": "code",
   "execution_count": 31,
   "metadata": {},
   "outputs": [
    {
     "name": "stdout",
     "output_type": "stream",
     "text": [
      "     0\n",
      "0    0\n",
      "1    3\n",
      "2    6\n",
      "3    9\n",
      "4   12\n",
      "5   15\n",
      "6   18\n",
      "7   21\n",
      "8   24\n",
      "9   27\n",
      "10  30\n",
      "11  33\n",
      "12  36\n",
      "13  39\n",
      "14  42\n",
      "15  45\n",
      "16  48\n",
      "17  51\n",
      "18  54\n",
      "19  57\n",
      "20  60\n",
      "21  63\n",
      "22  66\n",
      "23  69\n",
      "24  72\n",
      "25  75\n",
      "26  78\n",
      "27  81\n",
      "28  84\n",
      "29  87\n",
      "30  90\n",
      "31  93\n",
      "32  96\n",
      "33  99\n"
     ]
    }
   ],
   "source": [
    "import numpy as np\n",
    "x = range(np.random.randint(1),100,3)\n",
    "# y = range(1,200,2)\n",
    "sr_1 = pd.Series(x)\n",
    "# sr_2 = pd.Series(y)\n",
    "# sr_3 = pd.Series(['A','B','C','D','E','F'])\n",
    "# mydata = {\"one\":sr_1,\"Two\":sr_2,\"Three\":sr_3}\n",
    "# Index = [1,2,3,4,5,6]\n",
    "df1 = pd.DataFrame(sr_1)\n",
    "print(df1)"
   ]
  },
  {
   "cell_type": "code",
   "execution_count": 36,
   "metadata": {},
   "outputs": [
    {
     "name": "stdout",
     "output_type": "stream",
     "text": [
      "     0\n",
      "24  72\n",
      "25  75\n",
      "26  78\n",
      "27  81\n",
      "28  84\n",
      "29  87\n",
      "30  90\n",
      "31  93\n",
      "32  96\n",
      "33  99\n"
     ]
    }
   ],
   "source": [
    "print(df1.tail(10))"
   ]
  },
  {
   "cell_type": "code",
   "execution_count": 40,
   "metadata": {},
   "outputs": [
    {
     "name": "stdout",
     "output_type": "stream",
     "text": [
      "     Name  Rating        Date\n",
      "2008    A       5  01/01/2019\n",
      "2009    B       4  02/01/2019\n",
      "2010    C       3  03/01/2019\n",
      "2011    D       2  04/01/2019\n",
      "------------------------------\n",
      "     Name  Rating        Date\n",
      "2006    A       5  01/01/2019\n",
      "2007    B       4  02/01/2019\n",
      "2008    C       3  03/01/2019\n",
      "2009    D       2  04/01/2019\n",
      "------------------------------\n",
      "  Name_x  Rating_x        Date Name_y  Rating_y\n",
      "0      A         5  01/01/2019      A         5\n",
      "1      B         4  02/01/2019      B         4\n",
      "2      C         3  03/01/2019      C         3\n",
      "3      D         2  04/01/2019      D         2\n"
     ]
    }
   ],
   "source": [
    "data_f_1 = pd.DataFrame({\"Name\":[\"A\",\"B\",\"C\",\"D\"],\"Rating\":[5,4,3,2],\"Date\":\n",
    "                         [\"01/01/2019\",\"02/01/2019\",\"03/01/2019\",\"04/01/2019\"]},\n",
    "                       index = [2008,2009,2010,2011])\n",
    "data_f_2 = pd.DataFrame({\"Name\":[\"A\",\"B\",\"C\",\"D\"],\"Rating\":[5,4,3,2],\"Date\":\n",
    "                         [\"01/01/2019\",\"02/01/2019\",\"03/01/2019\",\"04/01/2019\"]},\n",
    "                       index = [2006,2007,2008,2009])\n",
    "\n",
    "print(data_f_1)\n",
    "print('-'*30)\n",
    "print(data_f_2)\n",
    "merge = pd.merge(data_f_1,data_f_2, on = \"Date\")\n",
    "print('-'*30)\n",
    "print(merge)"
   ]
  },
  {
   "cell_type": "code",
   "execution_count": 42,
   "metadata": {},
   "outputs": [
    {
     "ename": "ValueError",
     "evalue": "columns overlap but no suffix specified: Index(['Name', 'Rating', 'Date'], dtype='object')",
     "output_type": "error",
     "traceback": [
      "\u001b[1;31m---------------------------------------------------------------------------\u001b[0m",
      "\u001b[1;31mValueError\u001b[0m                                Traceback (most recent call last)",
      "\u001b[1;32m<ipython-input-42-e151e714e293>\u001b[0m in \u001b[0;36m<module>\u001b[1;34m\u001b[0m\n\u001b[1;32m----> 1\u001b[1;33m \u001b[0mjn\u001b[0m \u001b[1;33m=\u001b[0m \u001b[0mdata_f_1\u001b[0m\u001b[1;33m.\u001b[0m\u001b[0mjoin\u001b[0m\u001b[1;33m(\u001b[0m\u001b[0mdata_f_2\u001b[0m\u001b[1;33m)\u001b[0m\u001b[1;33m\u001b[0m\u001b[1;33m\u001b[0m\u001b[0m\n\u001b[0m\u001b[0;32m      2\u001b[0m \u001b[0mprint\u001b[0m\u001b[1;33m(\u001b[0m\u001b[0mjn\u001b[0m\u001b[1;33m)\u001b[0m\u001b[1;33m\u001b[0m\u001b[1;33m\u001b[0m\u001b[0m\n",
      "\u001b[1;32mC:\\ProgramData\\Anaconda3\\lib\\site-packages\\pandas\\core\\frame.py\u001b[0m in \u001b[0;36mjoin\u001b[1;34m(self, other, on, how, lsuffix, rsuffix, sort)\u001b[0m\n\u001b[0;32m   7206\u001b[0m         \u001b[1;36m5\u001b[0m  \u001b[0mK5\u001b[0m  \u001b[0mA5\u001b[0m  \u001b[0mNaN\u001b[0m\u001b[1;33m\u001b[0m\u001b[1;33m\u001b[0m\u001b[0m\n\u001b[0;32m   7207\u001b[0m         \"\"\"\n\u001b[1;32m-> 7208\u001b[1;33m         return self._join_compat(\n\u001b[0m\u001b[0;32m   7209\u001b[0m             \u001b[0mother\u001b[0m\u001b[1;33m,\u001b[0m \u001b[0mon\u001b[0m\u001b[1;33m=\u001b[0m\u001b[0mon\u001b[0m\u001b[1;33m,\u001b[0m \u001b[0mhow\u001b[0m\u001b[1;33m=\u001b[0m\u001b[0mhow\u001b[0m\u001b[1;33m,\u001b[0m \u001b[0mlsuffix\u001b[0m\u001b[1;33m=\u001b[0m\u001b[0mlsuffix\u001b[0m\u001b[1;33m,\u001b[0m \u001b[0mrsuffix\u001b[0m\u001b[1;33m=\u001b[0m\u001b[0mrsuffix\u001b[0m\u001b[1;33m,\u001b[0m \u001b[0msort\u001b[0m\u001b[1;33m=\u001b[0m\u001b[0msort\u001b[0m\u001b[1;33m\u001b[0m\u001b[1;33m\u001b[0m\u001b[0m\n\u001b[0;32m   7210\u001b[0m         )\n",
      "\u001b[1;32mC:\\ProgramData\\Anaconda3\\lib\\site-packages\\pandas\\core\\frame.py\u001b[0m in \u001b[0;36m_join_compat\u001b[1;34m(self, other, on, how, lsuffix, rsuffix, sort)\u001b[0m\n\u001b[0;32m   7222\u001b[0m \u001b[1;33m\u001b[0m\u001b[0m\n\u001b[0;32m   7223\u001b[0m         \u001b[1;32mif\u001b[0m \u001b[0misinstance\u001b[0m\u001b[1;33m(\u001b[0m\u001b[0mother\u001b[0m\u001b[1;33m,\u001b[0m \u001b[0mDataFrame\u001b[0m\u001b[1;33m)\u001b[0m\u001b[1;33m:\u001b[0m\u001b[1;33m\u001b[0m\u001b[1;33m\u001b[0m\u001b[0m\n\u001b[1;32m-> 7224\u001b[1;33m             return merge(\n\u001b[0m\u001b[0;32m   7225\u001b[0m                 \u001b[0mself\u001b[0m\u001b[1;33m,\u001b[0m\u001b[1;33m\u001b[0m\u001b[1;33m\u001b[0m\u001b[0m\n\u001b[0;32m   7226\u001b[0m                 \u001b[0mother\u001b[0m\u001b[1;33m,\u001b[0m\u001b[1;33m\u001b[0m\u001b[1;33m\u001b[0m\u001b[0m\n",
      "\u001b[1;32mC:\\ProgramData\\Anaconda3\\lib\\site-packages\\pandas\\core\\reshape\\merge.py\u001b[0m in \u001b[0;36mmerge\u001b[1;34m(left, right, how, on, left_on, right_on, left_index, right_index, sort, suffixes, copy, indicator, validate)\u001b[0m\n\u001b[0;32m     86\u001b[0m         \u001b[0mvalidate\u001b[0m\u001b[1;33m=\u001b[0m\u001b[0mvalidate\u001b[0m\u001b[1;33m,\u001b[0m\u001b[1;33m\u001b[0m\u001b[1;33m\u001b[0m\u001b[0m\n\u001b[0;32m     87\u001b[0m     )\n\u001b[1;32m---> 88\u001b[1;33m     \u001b[1;32mreturn\u001b[0m \u001b[0mop\u001b[0m\u001b[1;33m.\u001b[0m\u001b[0mget_result\u001b[0m\u001b[1;33m(\u001b[0m\u001b[1;33m)\u001b[0m\u001b[1;33m\u001b[0m\u001b[1;33m\u001b[0m\u001b[0m\n\u001b[0m\u001b[0;32m     89\u001b[0m \u001b[1;33m\u001b[0m\u001b[0m\n\u001b[0;32m     90\u001b[0m \u001b[1;33m\u001b[0m\u001b[0m\n",
      "\u001b[1;32mC:\\ProgramData\\Anaconda3\\lib\\site-packages\\pandas\\core\\reshape\\merge.py\u001b[0m in \u001b[0;36mget_result\u001b[1;34m(self)\u001b[0m\n\u001b[0;32m    646\u001b[0m         \u001b[0mlsuf\u001b[0m\u001b[1;33m,\u001b[0m \u001b[0mrsuf\u001b[0m \u001b[1;33m=\u001b[0m \u001b[0mself\u001b[0m\u001b[1;33m.\u001b[0m\u001b[0msuffixes\u001b[0m\u001b[1;33m\u001b[0m\u001b[1;33m\u001b[0m\u001b[0m\n\u001b[0;32m    647\u001b[0m \u001b[1;33m\u001b[0m\u001b[0m\n\u001b[1;32m--> 648\u001b[1;33m         llabels, rlabels = _items_overlap_with_suffix(\n\u001b[0m\u001b[0;32m    649\u001b[0m             \u001b[0mldata\u001b[0m\u001b[1;33m.\u001b[0m\u001b[0mitems\u001b[0m\u001b[1;33m,\u001b[0m \u001b[0mlsuf\u001b[0m\u001b[1;33m,\u001b[0m \u001b[0mrdata\u001b[0m\u001b[1;33m.\u001b[0m\u001b[0mitems\u001b[0m\u001b[1;33m,\u001b[0m \u001b[0mrsuf\u001b[0m\u001b[1;33m\u001b[0m\u001b[1;33m\u001b[0m\u001b[0m\n\u001b[0;32m    650\u001b[0m         )\n",
      "\u001b[1;32mC:\\ProgramData\\Anaconda3\\lib\\site-packages\\pandas\\core\\reshape\\merge.py\u001b[0m in \u001b[0;36m_items_overlap_with_suffix\u001b[1;34m(left, lsuffix, right, rsuffix)\u001b[0m\n\u001b[0;32m   2022\u001b[0m \u001b[1;33m\u001b[0m\u001b[0m\n\u001b[0;32m   2023\u001b[0m     \u001b[1;32mif\u001b[0m \u001b[1;32mnot\u001b[0m \u001b[0mlsuffix\u001b[0m \u001b[1;32mand\u001b[0m \u001b[1;32mnot\u001b[0m \u001b[0mrsuffix\u001b[0m\u001b[1;33m:\u001b[0m\u001b[1;33m\u001b[0m\u001b[1;33m\u001b[0m\u001b[0m\n\u001b[1;32m-> 2024\u001b[1;33m         raise ValueError(\n\u001b[0m\u001b[0;32m   2025\u001b[0m             \u001b[1;34m\"columns overlap but no suffix specified: \"\u001b[0m\u001b[1;33m\u001b[0m\u001b[1;33m\u001b[0m\u001b[0m\n\u001b[0;32m   2026\u001b[0m             \u001b[1;34m\"{rename}\"\u001b[0m\u001b[1;33m.\u001b[0m\u001b[0mformat\u001b[0m\u001b[1;33m(\u001b[0m\u001b[0mrename\u001b[0m\u001b[1;33m=\u001b[0m\u001b[0mto_rename\u001b[0m\u001b[1;33m)\u001b[0m\u001b[1;33m\u001b[0m\u001b[1;33m\u001b[0m\u001b[0m\n",
      "\u001b[1;31mValueError\u001b[0m: columns overlap but no suffix specified: Index(['Name', 'Rating', 'Date'], dtype='object')"
     ]
    }
   ],
   "source": [
    "jn = data_f_1.join(data_f_2)\n",
    "print(jn)"
   ]
  },
  {
   "cell_type": "code",
   "execution_count": 50,
   "metadata": {},
   "outputs": [],
   "source": [
    "\n",
    "data_1 = pd.read_csv( \"C:\\\\Users\\\\SWAYAMPRABHA\\\\Desktop\\\\airquality.csv\")"
   ]
  },
  {
   "cell_type": "code",
   "execution_count": 51,
   "metadata": {},
   "outputs": [
    {
     "name": "stdout",
     "output_type": "stream",
     "text": [
      "     Ozone  Solar.R  Wind  Temp  Month  Day\n",
      "0     41.0    190.0   7.4    67      5    1\n",
      "1     36.0    118.0   8.0    72      5    2\n",
      "2     12.0    149.0  12.6    74      5    3\n",
      "3     18.0    313.0  11.5    62      5    4\n",
      "4      NaN      NaN  14.3    56      5    5\n",
      "..     ...      ...   ...   ...    ...  ...\n",
      "148   30.0    193.0   6.9    70      9   26\n",
      "149    NaN    145.0  13.2    77      9   27\n",
      "150   14.0    191.0  14.3    75      9   28\n",
      "151   18.0    131.0   8.0    76      9   29\n",
      "152   20.0    223.0  11.5    68      9   30\n",
      "\n",
      "[153 rows x 6 columns]\n"
     ]
    }
   ],
   "source": [
    "print(data_1)"
   ]
  },
  {
   "cell_type": "code",
   "execution_count": 55,
   "metadata": {},
   "outputs": [
    {
     "name": "stdout",
     "output_type": "stream",
     "text": [
      "Ozone    42.12931\n",
      "dtype: float64\n"
     ]
    }
   ],
   "source": [
    "df3 = pd.DataFrame(data_1['Ozone'])\n",
    "print(df3.mean())"
   ]
  },
  {
   "cell_type": "code",
   "execution_count": 56,
   "metadata": {},
   "outputs": [
    {
     "name": "stdout",
     "output_type": "stream",
     "text": [
      "   Ozone\n",
      "0   41.0\n",
      "1   36.0\n",
      "2   12.0\n",
      "3   18.0\n",
      "4    NaN\n",
      "5   28.0\n",
      "6   23.0\n",
      "7   19.0\n",
      "8    8.0\n",
      "9    NaN\n"
     ]
    }
   ],
   "source": [
    "print(df3.head(10))"
   ]
  },
  {
   "cell_type": "code",
   "execution_count": 59,
   "metadata": {},
   "outputs": [
    {
     "name": "stdout",
     "output_type": "stream",
     "text": [
      "    Ozone  Solar.R  Wind  Temp  Month  Day\n",
      "0    41.0    190.0   7.4    67      5    1\n",
      "1    36.0    118.0   8.0    72      5    2\n",
      "2    12.0    149.0  12.6    74      5    3\n",
      "3    18.0    313.0  11.5    62      5    4\n",
      "6    23.0    299.0   8.6    65      5    7\n",
      "7    19.0     99.0  13.8    59      5    8\n",
      "8     8.0     19.0  20.1    61      5    9\n",
      "11   16.0    256.0   9.7    69      5   12\n",
      "12   11.0    290.0   9.2    66      5   13\n",
      "13   14.0    274.0  10.9    68      5   14\n"
     ]
    }
   ],
   "source": [
    "df5 = pd.DataFrame(data_1)\n",
    "df6 = df5.dropna()\n",
    "print(df6.head(10))"
   ]
  },
  {
   "cell_type": "code",
   "execution_count": null,
   "metadata": {},
   "outputs": [],
   "source": []
  }
 ],
 "metadata": {
  "kernelspec": {
   "display_name": "Python 3",
   "language": "python",
   "name": "python3"
  },
  "language_info": {
   "codemirror_mode": {
    "name": "ipython",
    "version": 3
   },
   "file_extension": ".py",
   "mimetype": "text/x-python",
   "name": "python",
   "nbconvert_exporter": "python",
   "pygments_lexer": "ipython3",
   "version": "3.8.3"
  }
 },
 "nbformat": 4,
 "nbformat_minor": 4
}
