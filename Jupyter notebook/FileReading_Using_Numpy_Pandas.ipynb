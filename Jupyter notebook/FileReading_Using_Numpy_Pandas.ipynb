{
 "cells": [
  {
   "cell_type": "code",
   "execution_count": 2,
   "metadata": {},
   "outputs": [],
   "source": [
    "import numpy as np\n",
    "import pandas as pd"
   ]
  },
  {
   "cell_type": "code",
   "execution_count": 5,
   "metadata": {},
   "outputs": [],
   "source": [
    "fb_file_path = \"C:\\\\Users\\\\SWAYAMPRABHA\\\\Documents\\\\fb.csv\"\n",
    "fb1_file_path = \"C:\\\\Users\\\\SWAYAMPRABHA\\\\Documents\\\\fb_1.csv\"\n",
    "airquality_file_path = \"C:\\\\Users\\\\SWAYAMPRABHA\\\\Documents\\\\airquality.csv\""
   ]
  },
  {
   "cell_type": "code",
   "execution_count": 6,
   "metadata": {},
   "outputs": [
    {
     "name": "stdout",
     "output_type": "stream",
     "text": [
      "        userid  age  dob_day  dob_year  dob_month  gender  tenure  \\\n",
      "0      2094382   14       19      1999         11    male   266.0   \n",
      "1      1192601   14        2      1999         11  female     6.0   \n",
      "2      2083884   14       16      1999         11    male    13.0   \n",
      "3      1203168   14       25      1999         12  female    93.0   \n",
      "4      1733186   14        4      1999         12    male    82.0   \n",
      "...        ...  ...      ...       ...        ...     ...     ...   \n",
      "98998  1268299   68        4      1945          4  female   541.0   \n",
      "98999  1256153   18       12      1995          3  female    21.0   \n",
      "99000  1195943   15       10      1998          5  female   111.0   \n",
      "99001  1468023   23       11      1990          4  female   416.0   \n",
      "99002  1397896   39       15      1974          5  female   397.0   \n",
      "\n",
      "       friend_count  friendships_initiated  likes  likes_received  \\\n",
      "0                 0                      0      0               0   \n",
      "1                 0                      0      0               0   \n",
      "2                 0                      0      0               0   \n",
      "3                 0                      0      0               0   \n",
      "4                 0                      0      0               0   \n",
      "...             ...                    ...    ...             ...   \n",
      "98998          2118                    341   3996           18089   \n",
      "98999          1968                   1720   4401           13412   \n",
      "99000          2002                   1524  11959           12554   \n",
      "99001          2560                    185   4506            6516   \n",
      "99002          2049                    768   9410           12443   \n",
      "\n",
      "       mobile_likes  mobile_likes_received  www_likes  www_likes_received  \n",
      "0                 0                      0          0                   0  \n",
      "1                 0                      0          0                   0  \n",
      "2                 0                      0          0                   0  \n",
      "3                 0                      0          0                   0  \n",
      "4                 0                      0          0                   0  \n",
      "...             ...                    ...        ...                 ...  \n",
      "98998          3505                  11887        491                6202  \n",
      "98999          4399                  10592          2                2820  \n",
      "99000         11959                  11462          0                1092  \n",
      "99001          4506                   5760          0                 756  \n",
      "99002          9410                   9530          0                2913  \n",
      "\n",
      "[99003 rows x 15 columns]\n"
     ]
    }
   ],
   "source": [
    "file_1 = pd.read_csv(fb_file_path)\n",
    "print(file_1)"
   ]
  },
  {
   "cell_type": "code",
   "execution_count": 8,
   "metadata": {},
   "outputs": [
    {
     "name": "stdout",
     "output_type": "stream",
     "text": [
      "(99003, 15)\n"
     ]
    }
   ],
   "source": [
    "print(file_1.shape)"
   ]
  },
  {
   "cell_type": "code",
   "execution_count": 12,
   "metadata": {},
   "outputs": [
    {
     "name": "stdout",
     "output_type": "stream",
     "text": [
      "99003\n",
      "15\n"
     ]
    }
   ],
   "source": [
    "print(len(file_1.axes[0])) #rows\n",
    "print(len(file_1.axes[1]))#column"
   ]
  },
  {
   "cell_type": "code",
   "execution_count": 14,
   "metadata": {},
   "outputs": [
    {
     "name": "stdout",
     "output_type": "stream",
     "text": [
      "        userid  gender\n",
      "0      2094382    male\n",
      "1      1192601  female\n",
      "2      2083884    male\n",
      "3      1203168  female\n",
      "4      1733186    male\n",
      "...        ...     ...\n",
      "98998  1268299  female\n",
      "98999  1256153  female\n",
      "99000  1195943  female\n",
      "99001  1468023  female\n",
      "99002  1397896  female\n",
      "\n",
      "[99003 rows x 2 columns]\n"
     ]
    }
   ],
   "source": [
    "sub_1 = file_1[['userid','gender']]\n",
    "print(sub_1)"
   ]
  },
  {
   "cell_type": "code",
   "execution_count": 15,
   "metadata": {},
   "outputs": [
    {
     "name": "stdout",
     "output_type": "stream",
     "text": [
      "    userid  gender\n",
      "0  2094382    male\n",
      "1  1192601  female\n",
      "2  2083884    male\n",
      "3  1203168  female\n",
      "4  1733186    male\n",
      "5  1524765    male\n"
     ]
    }
   ],
   "source": [
    "print(sub_1.head(6))"
   ]
  },
  {
   "cell_type": "code",
   "execution_count": 16,
   "metadata": {},
   "outputs": [
    {
     "name": "stdout",
     "output_type": "stream",
     "text": [
      "        userid  gender\n",
      "98998  1268299  female\n",
      "98999  1256153  female\n",
      "99000  1195943  female\n",
      "99001  1468023  female\n",
      "99002  1397896  female\n"
     ]
    }
   ],
   "source": [
    "print(sub_1.tail())"
   ]
  },
  {
   "cell_type": "code",
   "execution_count": 24,
   "metadata": {},
   "outputs": [
    {
     "name": "stdout",
     "output_type": "stream",
     "text": [
      "    userid  gender\n",
      "0  2094382    male\n",
      "1  1192601  female\n",
      "2  2083884    male\n",
      "3  1203168  female\n",
      "4  1733186    male\n",
      "5  1524765    male\n",
      "        userid  gender\n",
      "98997  1458985  female\n",
      "98998  1268299  female\n",
      "98999  1256153  female\n",
      "99000  1195943  female\n",
      "99001  1468023  female\n",
      "99002  1397896  female\n"
     ]
    }
   ],
   "source": [
    "hd=sub_1.head(6)\n",
    "print(hd)\n",
    "tl=sub_1.tail(6)\n",
    "print(tl)"
   ]
  },
  {
   "cell_type": "code",
   "execution_count": 23,
   "metadata": {},
   "outputs": [
    {
     "name": "stdout",
     "output_type": "stream",
     "text": [
      "Empty DataFrame\n",
      "Columns: [userid, gender_x, gender_y]\n",
      "Index: []\n"
     ]
    }
   ],
   "source": [
    "mymerge = pd.merge(hd,tl,on='userid')\n",
    "print(mymerge)"
   ]
  },
  {
   "cell_type": "code",
   "execution_count": 26,
   "metadata": {},
   "outputs": [
    {
     "name": "stdout",
     "output_type": "stream",
     "text": [
      "0    2094382\n",
      "1    1192601\n",
      "2    2083884\n",
      "3    1203168\n",
      "4    1733186\n",
      "Name: userid, dtype: int64\n"
     ]
    }
   ],
   "source": [
    "hd1 =(file_1['userid']).head()\n",
    "print(hd1)"
   ]
  },
  {
   "cell_type": "code",
   "execution_count": 33,
   "metadata": {},
   "outputs": [
    {
     "name": "stdout",
     "output_type": "stream",
     "text": [
      "0        False\n",
      "1        False\n",
      "2        False\n",
      "3        False\n",
      "4        False\n",
      "         ...  \n",
      "98998     True\n",
      "98999     True\n",
      "99000     True\n",
      "99001     True\n",
      "99002     True\n",
      "Name: likes, Length: 99003, dtype: bool\n"
     ]
    }
   ],
   "source": [
    "sub_3 = file_1['likes'] > 150\n",
    "print(sub_3)"
   ]
  },
  {
   "cell_type": "code",
   "execution_count": 35,
   "metadata": {},
   "outputs": [
    {
     "name": "stdout",
     "output_type": "stream",
     "text": [
      "     pagetotallikes  type  category  postmonth  postweekday  posthour  paid  \\\n",
      "0            139441     2         2         12            4         3     0   \n",
      "1            139441     3         2         12            3        10     0   \n",
      "2            139441     2         3         12            3         3     0   \n",
      "3            139441     2         2         12            2        10     1   \n",
      "4            139441     2         2         12            2         3     0   \n",
      "..              ...   ...       ...        ...          ...       ...   ...   \n",
      "367           85093     2         3          1            7        10     0   \n",
      "368           85093     2         3          1            7         2     0   \n",
      "369           81370     2         2          1            5         8     0   \n",
      "370           81370     2         1          1            5         2     0   \n",
      "371           81370     2         3          1            4        11     0   \n",
      "\n",
      "     lifetimeposttotalreach  lifetimeposttotalimpressions  \\\n",
      "0                      2752                          5091   \n",
      "1                     10460                         19057   \n",
      "2                      2413                          4373   \n",
      "3                     50128                         87991   \n",
      "4                      7244                         13594   \n",
      "..                      ...                           ...   \n",
      "367                    5400                          9218   \n",
      "368                    4684                          7536   \n",
      "369                    3480                          6229   \n",
      "370                    3778                          7216   \n",
      "371                    4156                          7564   \n",
      "\n",
      "     lifetimeengagedusers  lifetimepostconsumers  lifetimepostconsumptions  \\\n",
      "0                     178                    109                       159   \n",
      "1                    1457                   1361                      1674   \n",
      "2                     177                    113                       154   \n",
      "3                    2211                    790                      1119   \n",
      "4                     671                    410                       580   \n",
      "..                    ...                    ...                       ...   \n",
      "367                   810                    756                      1003   \n",
      "368                   733                    708                       985   \n",
      "369                   537                    508                       687   \n",
      "370                   625                    572                       795   \n",
      "371                   626                    574                       832   \n",
      "\n",
      "     lifetimepostimpressionsbypeoplewhohavelikedyourpage  \\\n",
      "0                                                 3078     \n",
      "1                                                11710     \n",
      "2                                                 2812     \n",
      "3                                                61027     \n",
      "4                                                 6228     \n",
      "..                                                 ...     \n",
      "367                                               5654     \n",
      "368                                               4750     \n",
      "369                                               3961     \n",
      "370                                               4742     \n",
      "371                                               4534     \n",
      "\n",
      "     lifetimepostreachbypeoplewholikeyourpage  \\\n",
      "0                                        1640   \n",
      "1                                        6112   \n",
      "2                                        1503   \n",
      "3                                       32048   \n",
      "4                                        3200   \n",
      "..                                        ...   \n",
      "367                                      3230   \n",
      "368                                      2876   \n",
      "369                                      2104   \n",
      "370                                      2388   \n",
      "371                                      2452   \n",
      "\n",
      "     lifetimepeoplewhohavelikedyourpageandengagedwithyourpost  comment  like  \\\n",
      "0                                                  119               4    79   \n",
      "1                                                 1108               5   130   \n",
      "2                                                  132               0    66   \n",
      "3                                                 1386              58  1572   \n",
      "4                                                  396              19   325   \n",
      "..                                                 ...             ...   ...   \n",
      "367                                                422              10   125   \n",
      "368                                                392               5    53   \n",
      "369                                                301               0    53   \n",
      "370                                                363               4    93   \n",
      "371                                                370               7    91   \n",
      "\n",
      "     share  totalinteractions  \n",
      "0       17                100  \n",
      "1       29                164  \n",
      "2       14                 80  \n",
      "3      147               1777  \n",
      "4       49                393  \n",
      "..     ...                ...  \n",
      "367     41                176  \n",
      "368     26                 84  \n",
      "369     22                 75  \n",
      "370     18                115  \n",
      "371     38                136  \n",
      "\n",
      "[372 rows x 19 columns]\n"
     ]
    }
   ],
   "source": [
    "file_2 = pd.read_csv(fb1_file_path)\n",
    "print(file_2)"
   ]
  },
  {
   "cell_type": "code",
   "execution_count": 36,
   "metadata": {},
   "outputs": [
    {
     "name": "stdout",
     "output_type": "stream",
     "text": [
      "     Ozone  Solar.R  Wind  Temp  Month  Day\n",
      "0     41.0    190.0   7.4    67      5    1\n",
      "1     36.0    118.0   8.0    72      5    2\n",
      "2     12.0    149.0  12.6    74      5    3\n",
      "3     18.0    313.0  11.5    62      5    4\n",
      "4      NaN      NaN  14.3    56      5    5\n",
      "..     ...      ...   ...   ...    ...  ...\n",
      "148   30.0    193.0   6.9    70      9   26\n",
      "149    NaN    145.0  13.2    77      9   27\n",
      "150   14.0    191.0  14.3    75      9   28\n",
      "151   18.0    131.0   8.0    76      9   29\n",
      "152   20.0    223.0  11.5    68      9   30\n",
      "\n",
      "[153 rows x 6 columns]\n"
     ]
    }
   ],
   "source": [
    "file_3 = pd.read_csv(airquality_file_path)\n",
    "print(file_3)"
   ]
  },
  {
   "cell_type": "code",
   "execution_count": 44,
   "metadata": {},
   "outputs": [
    {
     "name": "stdout",
     "output_type": "stream",
     "text": [
      "     like  comment  share  paid\n",
      "0      79        4     17     0\n",
      "1     130        5     29     0\n",
      "2      66        0     14     0\n",
      "3    1572       58    147     1\n",
      "4     325       19     49     0\n",
      "..    ...      ...    ...   ...\n",
      "367   125       10     41     0\n",
      "368    53        5     26     0\n",
      "369    53        0     22     0\n",
      "370    93        4     18     0\n",
      "371    91        7     38     0\n",
      "\n",
      "[372 rows x 4 columns]\n"
     ]
    }
   ],
   "source": [
    "file_4 = file_2[['like','comment','share','paid']] \n",
    "print(file_4)"
   ]
  },
  {
   "cell_type": "code",
   "execution_count": 45,
   "metadata": {},
   "outputs": [
    {
     "name": "stdout",
     "output_type": "stream",
     "text": [
      "         0    1    2     3    4    5    6    7    8    9    ...  362  363  \\\n",
      "like      79  130   66  1572  325  152  249  325  161  113  ...   74   79   \n",
      "comment    4    5    0    58   19    1    3    0    0    3  ...    1    1   \n",
      "share     17   29   14   147   49   33   27   14   31   26  ...   28   30   \n",
      "paid       0    0    0     1    0    0    1    1    0    0  ...    0    0   \n",
      "\n",
      "         364  365  366  367  368  369  370  371  \n",
      "like     105  128  185  125   53   53   93   91  \n",
      "comment    1    0   17   10    5    0    4    7  \n",
      "share     46    9   55   41   26   22   18   38  \n",
      "paid       1    0    0    0    0    0    0    0  \n",
      "\n",
      "[4 rows x 372 columns]\n"
     ]
    }
   ],
   "source": [
    "mytrans = file_4.T\n",
    "print(mytrans)"
   ]
  },
  {
   "cell_type": "code",
   "execution_count": 51,
   "metadata": {},
   "outputs": [
    {
     "name": "stdout",
     "output_type": "stream",
     "text": [
      "  Student  Subject  Marks\n",
      "0     tom  english     45\n",
      "1   jerry  english     60\n",
      "2     tom    maths     76\n",
      "3   jerry    maths     56\n"
     ]
    }
   ],
   "source": [
    "student_data = pd.DataFrame({\"Student\":['tom','jerry','tom','jerry'],\n",
    "                           \"Subject\":['english','english','maths','maths'],\n",
    "                           \"Marks\":[45,60,76,56]})\n",
    "print(student_data)"
   ]
  },
  {
   "cell_type": "code",
   "execution_count": 56,
   "metadata": {},
   "outputs": [
    {
     "name": "stdout",
     "output_type": "stream",
     "text": [
      "Subject  english  maths\n",
      "Student                \n",
      "jerry         60     56\n",
      "tom           45     76\n"
     ]
    },
    {
     "ename": "KeyError",
     "evalue": "\"The following 'id_vars' are not present in the DataFrame: ['Student', 'Subject']\"",
     "output_type": "error",
     "traceback": [
      "\u001b[1;31m---------------------------------------------------------------------------\u001b[0m",
      "\u001b[1;31mKeyError\u001b[0m                                  Traceback (most recent call last)",
      "\u001b[1;32m<ipython-input-56-478485b7a1d2>\u001b[0m in \u001b[0;36m<module>\u001b[1;34m\u001b[0m\n\u001b[0;32m      1\u001b[0m \u001b[0mmypivot\u001b[0m \u001b[1;33m=\u001b[0m \u001b[0mstudent_data\u001b[0m\u001b[1;33m.\u001b[0m\u001b[0mpivot\u001b[0m\u001b[1;33m(\u001b[0m\u001b[0mindex\u001b[0m\u001b[1;33m=\u001b[0m\u001b[1;34m\"Student\"\u001b[0m\u001b[1;33m,\u001b[0m\u001b[0mcolumns\u001b[0m\u001b[1;33m=\u001b[0m\u001b[1;34m\"Subject\"\u001b[0m\u001b[1;33m,\u001b[0m\u001b[0mvalues\u001b[0m\u001b[1;33m=\u001b[0m\u001b[1;34m\"Marks\"\u001b[0m\u001b[1;33m)\u001b[0m\u001b[1;33m\u001b[0m\u001b[1;33m\u001b[0m\u001b[0m\n\u001b[0;32m      2\u001b[0m \u001b[0mprint\u001b[0m\u001b[1;33m(\u001b[0m\u001b[0mmypivot\u001b[0m\u001b[1;33m)\u001b[0m\u001b[1;33m\u001b[0m\u001b[1;33m\u001b[0m\u001b[0m\n\u001b[1;32m----> 3\u001b[1;33m \u001b[0mmymelt\u001b[0m \u001b[1;33m=\u001b[0m \u001b[0mmypivot\u001b[0m\u001b[1;33m.\u001b[0m\u001b[0mmelt\u001b[0m\u001b[1;33m(\u001b[0m\u001b[0mid_vars\u001b[0m\u001b[1;33m=\u001b[0m\u001b[1;33m[\u001b[0m\u001b[1;34m'Student'\u001b[0m\u001b[1;33m,\u001b[0m\u001b[1;34m'Subject'\u001b[0m\u001b[1;33m]\u001b[0m\u001b[1;33m)\u001b[0m\u001b[1;33m\u001b[0m\u001b[1;33m\u001b[0m\u001b[0m\n\u001b[0m",
      "\u001b[1;32mC:\\ProgramData\\Anaconda3\\lib\\site-packages\\pandas\\core\\frame.py\u001b[0m in \u001b[0;36mmelt\u001b[1;34m(self, id_vars, value_vars, var_name, value_name, col_level)\u001b[0m\n\u001b[0;32m   6498\u001b[0m         \u001b[1;32mfrom\u001b[0m \u001b[0mpandas\u001b[0m\u001b[1;33m.\u001b[0m\u001b[0mcore\u001b[0m\u001b[1;33m.\u001b[0m\u001b[0mreshape\u001b[0m\u001b[1;33m.\u001b[0m\u001b[0mmelt\u001b[0m \u001b[1;32mimport\u001b[0m \u001b[0mmelt\u001b[0m\u001b[1;33m\u001b[0m\u001b[1;33m\u001b[0m\u001b[0m\n\u001b[0;32m   6499\u001b[0m \u001b[1;33m\u001b[0m\u001b[0m\n\u001b[1;32m-> 6500\u001b[1;33m         return melt(\n\u001b[0m\u001b[0;32m   6501\u001b[0m             \u001b[0mself\u001b[0m\u001b[1;33m,\u001b[0m\u001b[1;33m\u001b[0m\u001b[1;33m\u001b[0m\u001b[0m\n\u001b[0;32m   6502\u001b[0m             \u001b[0mid_vars\u001b[0m\u001b[1;33m=\u001b[0m\u001b[0mid_vars\u001b[0m\u001b[1;33m,\u001b[0m\u001b[1;33m\u001b[0m\u001b[1;33m\u001b[0m\u001b[0m\n",
      "\u001b[1;32mC:\\ProgramData\\Anaconda3\\lib\\site-packages\\pandas\\core\\reshape\\melt.py\u001b[0m in \u001b[0;36mmelt\u001b[1;34m(frame, id_vars, value_vars, var_name, value_name, col_level)\u001b[0m\n\u001b[0;32m     51\u001b[0m             \u001b[0mmissing\u001b[0m \u001b[1;33m=\u001b[0m \u001b[0mIndex\u001b[0m\u001b[1;33m(\u001b[0m\u001b[0mcom\u001b[0m\u001b[1;33m.\u001b[0m\u001b[0mflatten\u001b[0m\u001b[1;33m(\u001b[0m\u001b[0mid_vars\u001b[0m\u001b[1;33m)\u001b[0m\u001b[1;33m)\u001b[0m\u001b[1;33m.\u001b[0m\u001b[0mdifference\u001b[0m\u001b[1;33m(\u001b[0m\u001b[0mcols\u001b[0m\u001b[1;33m)\u001b[0m\u001b[1;33m\u001b[0m\u001b[1;33m\u001b[0m\u001b[0m\n\u001b[0;32m     52\u001b[0m             \u001b[1;32mif\u001b[0m \u001b[1;32mnot\u001b[0m \u001b[0mmissing\u001b[0m\u001b[1;33m.\u001b[0m\u001b[0mempty\u001b[0m\u001b[1;33m:\u001b[0m\u001b[1;33m\u001b[0m\u001b[1;33m\u001b[0m\u001b[0m\n\u001b[1;32m---> 53\u001b[1;33m                 raise KeyError(\n\u001b[0m\u001b[0;32m     54\u001b[0m                     \u001b[1;34m\"The following 'id_vars' are not present \"\u001b[0m\u001b[1;33m\u001b[0m\u001b[1;33m\u001b[0m\u001b[0m\n\u001b[0;32m     55\u001b[0m                     \u001b[1;34m\"in the DataFrame: {missing}\"\u001b[0m\u001b[1;33m\u001b[0m\u001b[1;33m\u001b[0m\u001b[0m\n",
      "\u001b[1;31mKeyError\u001b[0m: \"The following 'id_vars' are not present in the DataFrame: ['Student', 'Subject']\""
     ]
    }
   ],
   "source": [
    "mypivot = student_data.pivot(index=\"Student\",columns=\"Subject\",values=\"Marks\")\n",
    "print(mypivot)\n",
    "mymelt = mypivot.melt(id_vars=['Student','Subject'])"
   ]
  },
  {
   "cell_type": "code",
   "execution_count": 57,
   "metadata": {},
   "outputs": [
    {
     "name": "stdout",
     "output_type": "stream",
     "text": [
      "(153, 6)\n"
     ]
    }
   ],
   "source": [
    "print(file_3.shape)"
   ]
  },
  {
   "cell_type": "code",
   "execution_count": 58,
   "metadata": {},
   "outputs": [
    {
     "data": {
      "text/html": [
       "<div>\n",
       "<style scoped>\n",
       "    .dataframe tbody tr th:only-of-type {\n",
       "        vertical-align: middle;\n",
       "    }\n",
       "\n",
       "    .dataframe tbody tr th {\n",
       "        vertical-align: top;\n",
       "    }\n",
       "\n",
       "    .dataframe thead th {\n",
       "        text-align: right;\n",
       "    }\n",
       "</style>\n",
       "<table border=\"1\" class=\"dataframe\">\n",
       "  <thead>\n",
       "    <tr style=\"text-align: right;\">\n",
       "      <th></th>\n",
       "      <th>Ozone</th>\n",
       "      <th>Solar.R</th>\n",
       "      <th>Wind</th>\n",
       "      <th>Temp</th>\n",
       "      <th>Month</th>\n",
       "      <th>Day</th>\n",
       "    </tr>\n",
       "  </thead>\n",
       "  <tbody>\n",
       "    <tr>\n",
       "      <th>0</th>\n",
       "      <td>41.0</td>\n",
       "      <td>190.0</td>\n",
       "      <td>7.4</td>\n",
       "      <td>67</td>\n",
       "      <td>5</td>\n",
       "      <td>1</td>\n",
       "    </tr>\n",
       "    <tr>\n",
       "      <th>1</th>\n",
       "      <td>36.0</td>\n",
       "      <td>118.0</td>\n",
       "      <td>8.0</td>\n",
       "      <td>72</td>\n",
       "      <td>5</td>\n",
       "      <td>2</td>\n",
       "    </tr>\n",
       "    <tr>\n",
       "      <th>2</th>\n",
       "      <td>12.0</td>\n",
       "      <td>149.0</td>\n",
       "      <td>12.6</td>\n",
       "      <td>74</td>\n",
       "      <td>5</td>\n",
       "      <td>3</td>\n",
       "    </tr>\n",
       "    <tr>\n",
       "      <th>3</th>\n",
       "      <td>18.0</td>\n",
       "      <td>313.0</td>\n",
       "      <td>11.5</td>\n",
       "      <td>62</td>\n",
       "      <td>5</td>\n",
       "      <td>4</td>\n",
       "    </tr>\n",
       "    <tr>\n",
       "      <th>6</th>\n",
       "      <td>23.0</td>\n",
       "      <td>299.0</td>\n",
       "      <td>8.6</td>\n",
       "      <td>65</td>\n",
       "      <td>5</td>\n",
       "      <td>7</td>\n",
       "    </tr>\n",
       "    <tr>\n",
       "      <th>...</th>\n",
       "      <td>...</td>\n",
       "      <td>...</td>\n",
       "      <td>...</td>\n",
       "      <td>...</td>\n",
       "      <td>...</td>\n",
       "      <td>...</td>\n",
       "    </tr>\n",
       "    <tr>\n",
       "      <th>147</th>\n",
       "      <td>14.0</td>\n",
       "      <td>20.0</td>\n",
       "      <td>16.6</td>\n",
       "      <td>63</td>\n",
       "      <td>9</td>\n",
       "      <td>25</td>\n",
       "    </tr>\n",
       "    <tr>\n",
       "      <th>148</th>\n",
       "      <td>30.0</td>\n",
       "      <td>193.0</td>\n",
       "      <td>6.9</td>\n",
       "      <td>70</td>\n",
       "      <td>9</td>\n",
       "      <td>26</td>\n",
       "    </tr>\n",
       "    <tr>\n",
       "      <th>150</th>\n",
       "      <td>14.0</td>\n",
       "      <td>191.0</td>\n",
       "      <td>14.3</td>\n",
       "      <td>75</td>\n",
       "      <td>9</td>\n",
       "      <td>28</td>\n",
       "    </tr>\n",
       "    <tr>\n",
       "      <th>151</th>\n",
       "      <td>18.0</td>\n",
       "      <td>131.0</td>\n",
       "      <td>8.0</td>\n",
       "      <td>76</td>\n",
       "      <td>9</td>\n",
       "      <td>29</td>\n",
       "    </tr>\n",
       "    <tr>\n",
       "      <th>152</th>\n",
       "      <td>20.0</td>\n",
       "      <td>223.0</td>\n",
       "      <td>11.5</td>\n",
       "      <td>68</td>\n",
       "      <td>9</td>\n",
       "      <td>30</td>\n",
       "    </tr>\n",
       "  </tbody>\n",
       "</table>\n",
       "<p>111 rows × 6 columns</p>\n",
       "</div>"
      ],
      "text/plain": [
       "     Ozone  Solar.R  Wind  Temp  Month  Day\n",
       "0     41.0    190.0   7.4    67      5    1\n",
       "1     36.0    118.0   8.0    72      5    2\n",
       "2     12.0    149.0  12.6    74      5    3\n",
       "3     18.0    313.0  11.5    62      5    4\n",
       "6     23.0    299.0   8.6    65      5    7\n",
       "..     ...      ...   ...   ...    ...  ...\n",
       "147   14.0     20.0  16.6    63      9   25\n",
       "148   30.0    193.0   6.9    70      9   26\n",
       "150   14.0    191.0  14.3    75      9   28\n",
       "151   18.0    131.0   8.0    76      9   29\n",
       "152   20.0    223.0  11.5    68      9   30\n",
       "\n",
       "[111 rows x 6 columns]"
      ]
     },
     "execution_count": 58,
     "metadata": {},
     "output_type": "execute_result"
    }
   ],
   "source": [
    "file_3.dropna()"
   ]
  },
  {
   "cell_type": "code",
   "execution_count": 60,
   "metadata": {},
   "outputs": [
    {
     "data": {
      "text/plain": [
       "42.12931034482759"
      ]
     },
     "execution_count": 60,
     "metadata": {},
     "output_type": "execute_result"
    }
   ],
   "source": [
    "file_3.Ozone.mean()"
   ]
  },
  {
   "cell_type": "code",
   "execution_count": 61,
   "metadata": {},
   "outputs": [
    {
     "data": {
      "text/plain": [
       "31.5"
      ]
     },
     "execution_count": 61,
     "metadata": {},
     "output_type": "execute_result"
    }
   ],
   "source": [
    "file_3.Ozone.median()"
   ]
  },
  {
   "cell_type": "code",
   "execution_count": 66,
   "metadata": {},
   "outputs": [
    {
     "name": "stdout",
     "output_type": "stream",
     "text": [
      "<class 'pandas.core.frame.DataFrame'>\n",
      "RangeIndex: 153 entries, 0 to 152\n",
      "Data columns (total 6 columns):\n",
      " #   Column   Non-Null Count  Dtype  \n",
      "---  ------   --------------  -----  \n",
      " 0   Ozone    116 non-null    float64\n",
      " 1   Solar.R  146 non-null    float64\n",
      " 2   Wind     153 non-null    float64\n",
      " 3   Temp     153 non-null    int64  \n",
      " 4   Month    153 non-null    int64  \n",
      " 5   Day      153 non-null    int64  \n",
      "dtypes: float64(3), int64(3)\n",
      "memory usage: 7.3 KB\n"
     ]
    }
   ],
   "source": [
    "file_3.info()"
   ]
  },
  {
   "cell_type": "code",
   "execution_count": null,
   "metadata": {},
   "outputs": [],
   "source": []
  }
 ],
 "metadata": {
  "kernelspec": {
   "display_name": "Python 3",
   "language": "python",
   "name": "python3"
  },
  "language_info": {
   "codemirror_mode": {
    "name": "ipython",
    "version": 3
   },
   "file_extension": ".py",
   "mimetype": "text/x-python",
   "name": "python",
   "nbconvert_exporter": "python",
   "pygments_lexer": "ipython3",
   "version": "3.8.3"
  }
 },
 "nbformat": 4,
 "nbformat_minor": 4
}
